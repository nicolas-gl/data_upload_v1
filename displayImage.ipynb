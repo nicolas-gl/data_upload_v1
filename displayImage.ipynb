{
 "cells": [
  {
   "cell_type": "markdown",
   "id": "acd8908a",
   "metadata": {},
   "source": []
  },
  {
   "cell_type": "code",
   "execution_count": 28,
   "id": "21662501",
   "metadata": {
    "scrolled": true
   },
   "outputs": [
    {
     "data": {
      "text/html": [
       "<img src=\"https://bersoantik.com/media/_versions/catalog/2022/5/antikvarnaya-pech_02_0843_1_object_big.jpg\" width=\"400\"/>"
      ],
      "text/plain": [
       "<IPython.core.display.Image object>"
      ]
     },
     "execution_count": 28,
     "metadata": {},
     "output_type": "execute_result"
    }
   ],
   "source": [
    "from IPython.display import Image\n",
    "\n",
    "url= 'https://bersoantik.com/media/_versions/catalog/2022/5/antikvarnaya-pech_02_0843_1_object_big.jpg'\n",
    "\n",
    "Image(\n",
    "    url=url,\n",
    "    width=400,\n",
    "    # unconfined=True,      non-understood parameter\n",
    ")"
   ]
  },
  {
   "cell_type": "code",
   "execution_count": null,
   "id": "f52bd9ca",
   "metadata": {},
   "outputs": [],
   "source": []
  }
 ],
 "metadata": {
  "kernelspec": {
   "display_name": "Python 3.10.2 64-bit (system)",
   "language": "python",
   "name": "python3"
  },
  "language_info": {
   "codemirror_mode": {
    "name": "ipython",
    "version": 3
   },
   "file_extension": ".py",
   "mimetype": "text/x-python",
   "name": "python",
   "nbconvert_exporter": "python",
   "pygments_lexer": "ipython3",
   "version": "3.10.2"
  },
  "vscode": {
   "interpreter": {
    "hash": "639b248beed4ba8868b7bbccf7ad405234a39112ec10324a76224b42c263b23b"
   }
  }
 },
 "nbformat": 4,
 "nbformat_minor": 5
}
