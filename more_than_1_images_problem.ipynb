{
 "cells": [
  {
   "cell_type": "code",
   "execution_count": 1,
   "id": "6d1499ee",
   "metadata": {},
   "outputs": [
    {
     "name": "stdout",
     "output_type": "stream",
     "text": [
      "0\n"
     ]
    },
    {
     "data": {
      "text/html": [
       "<img src=\"https://bersoantik.com/media/_versions/03.2018/01_0186-1_object_preview.jpg\" width=\"400\"/>"
      ],
      "text/plain": [
       "<IPython.core.display.Image object>"
      ]
     },
     "metadata": {},
     "output_type": "display_data"
    },
    {
     "name": "stdout",
     "output_type": "stream",
     "text": [
      "1\n"
     ]
    },
    {
     "data": {
      "text/html": [
       "<img src=\"https://bersoantik.com/media/_versions/03.2018/01_0186-1_object_preview.jpg\" width=\"400\"/>"
      ],
      "text/plain": [
       "<IPython.core.display.Image object>"
      ]
     },
     "metadata": {},
     "output_type": "display_data"
    }
   ],
   "source": [
    "from IPython.display import Image\n",
    "\n",
    "for i in range(2):\n",
    "    print(i)\n",
    "    display(Image(\n",
    "        url='https://bersoantik.com/media/_versions/03.2018/01_0186-1_object_preview.jpg',\n",
    "        width=400,\n",
    "        # unconfined=True,      non-understood parameter\n",
    "        ))\n",
    "# print(1)\n",
    "# display(Image(\n",
    "#     url='https://bersoantik.com/media/_versions/03.2018/01_0186-1_object_preview.jpg',\n",
    "#     width=400,\n",
    "#     # unconfined=True,      non-understood parameter\n",
    "#     ))\n",
    "# print(2)\n",
    "# Image(\n",
    "#     url='https://bersoantik.com/media/_versions/03.2018/01_0186-1_object_preview.jpg',\n",
    "#     width=400,\n",
    "#     # unconfined=True,      non-understood parameter\n",
    "#     )\n",
    "# print(3)"
   ]
  },
  {
   "cell_type": "code",
   "execution_count": null,
   "id": "b564d406",
   "metadata": {},
   "outputs": [],
   "source": [
    "    display(\n",
    "        Image(\n",
    "            url=url,\n",
    "            width=400,\n",
    "            # unconfined=True,      non-understood parameter\n",
    "            )\n",
    "        )"
   ]
  },
  {
   "cell_type": "code",
   "execution_count": null,
   "id": "2d92c253",
   "metadata": {},
   "outputs": [],
   "source": []
  }
 ],
 "metadata": {
  "kernelspec": {
   "display_name": "Python 3 (ipykernel)",
   "language": "python",
   "name": "python3"
  },
  "language_info": {
   "codemirror_mode": {
    "name": "ipython",
    "version": 3
   },
   "file_extension": ".py",
   "mimetype": "text/x-python",
   "name": "python",
   "nbconvert_exporter": "python",
   "pygments_lexer": "ipython3",
   "version": "3.9.7"
  }
 },
 "nbformat": 4,
 "nbformat_minor": 5
}
