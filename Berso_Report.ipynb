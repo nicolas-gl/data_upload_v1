{
 "cells": [
  {
   "cell_type": "code",
   "execution_count": 17,
   "metadata": {},
   "outputs": [
    {
     "name": "stdout",
     "output_type": "stream",
     "text": [
      "Python cell\n"
     ]
    },
    {
     "data": {
      "text/html": [
       "<img src=\"https://bersoantik.com/media/_versions/catalog/2022/5/antikvarnaya-pech_02_0843_1_object_big.jpg\" width=\"400\" class=\"unconfined\"/>"
      ],
      "text/plain": [
       "<IPython.core.display.Image object>"
      ]
     },
     "execution_count": 17,
     "metadata": {},
     "output_type": "execute_result"
    }
   ],
   "source": [
    "from IPython.display import Image\n",
    "\n",
    "url= 'https://bersoantik.com/media/_versions/catalog/2022/5/antikvarnaya-pech_02_0843_1_object_big.jpg'\n",
    "\n",
    "print('Python cell')\n",
    "\n",
    "Image(\n",
    "    url=url,\n",
    "    width=400,\n",
    "    unconfined=True,\n",
    ")\n"
   ]
  },
  {
   "cell_type": "markdown",
   "metadata": {},
   "source": [
    "### Markdown cell\n",
    "<img src=\"https://bersoantik.com/media/_versions/catalog/2022/5/antikvarnaya-pech_02_0843_1_object_big.jpg\" width=400 />"
   ]
  }
 ],
 "metadata": {
  "interpreter": {
   "hash": "ad2bdc8ecc057115af97d19610ffacc2b4e99fae6737bb82f5d7fb13d2f2c186"
  },
  "kernelspec": {
   "display_name": "Python 3.9.7 64-bit (system)",
   "language": "python",
   "name": "python3"
  },
  "language_info": {
   "codemirror_mode": {
    "name": "ipython",
    "version": 3
   },
   "file_extension": ".py",
   "mimetype": "text/x-python",
   "name": "python",
   "nbconvert_exporter": "python",
   "pygments_lexer": "ipython3",
   "version": "3.9.7"
  },
  "orig_nbformat": 4
 },
 "nbformat": 4,
 "nbformat_minor": 2
}
