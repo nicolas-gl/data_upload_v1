{
 "cells": [
  {
   "cell_type": "code",
   "execution_count": 1,
   "id": "b7fcb950",
   "metadata": {},
   "outputs": [
    {
     "name": "stdout",
     "output_type": "stream",
     "text": [
      "Статус\n",
      "Заголовок, Артикул руб.Статус \n",
      "\n",
      "В наличии\n",
      "Антикварные часы, 01_0186 руб.В наличии \n",
      "\n",
      "В наличии\n",
      "Антикварная статуэтка \"Овсянка обыкновенная\", 01_2703 руб.В наличии \n",
      "\n",
      "В наличии\n",
      "Настольная лампа «Дельфин», 01_3192 руб.В наличии \n",
      "\n",
      "Резерв\n",
      "Антикварное ведро для шампанского, 01_3310 руб.Резерв \n",
      "\n",
      "В наличии\n",
      "Небольшая антикварная полка, 01_4233 руб.В наличии \n",
      "\n",
      "В наличии\n",
      "Подсвечник \"Хрустальная сова\", 01_4489 руб.В наличии \n",
      "\n",
      "Продано\n",
      "Старинный каминный набор, 02_0101 руб.Продано \n",
      "\n",
      "Продано\n",
      "Антикварный каминный набор, 02_0173 руб.Продано \n",
      "\n",
      "В наличии\n",
      "Антикварный каминный набор «Цапля на рыбалке», 02_0174 руб.В наличии \n",
      "\n",
      "В наличии\n",
      "Скульптура «Обнаженная», 02_0313 руб.В наличии \n",
      "\n",
      "В наличии\n",
      "Винтажная скульптура «Йога», 02_0314 руб.В наличии \n",
      "\n",
      "В наличии\n",
      "Винтажный журнальный столик, 02_0695 руб.В наличии \n",
      "\n",
      "В наличии\n",
      "Держатели для книг (букенды) \"Львы\", 02_0763 руб.В наличии \n",
      "\n",
      "В наличии\n",
      "Держатели для книг «Вепри», 02_0765 руб.В наличии \n",
      "\n",
      "В наличии\n",
      "Оригинальные букенды (держатели для книг) \"Лошади\", 02_0766 руб.В наличии \n",
      "\n",
      "В наличии\n",
      "Скульптура «Петух», 02_1008 руб.В наличии \n",
      "\n",
      "В наличии\n",
      "Антикварный гонг с парными вазочками, 02_1029 руб.В наличии \n",
      "\n",
      "В наличии\n",
      "Антикварный гонг, 02_102901 руб.В наличии \n",
      "\n",
      "В наличии\n",
      "Антикварные парные вазочки, 02_102902 руб.В наличии \n",
      "\n",
      "В наличии\n",
      "Антикварный телескоп, 02_1057 руб.В наличии \n",
      "\n",
      "\n"
     ]
    }
   ],
   "source": [
    "import openpyxl\n",
    "\n",
    "\n",
    "def make_report_text():\n",
    "    opened_file = 'committent_catalog_items.xlsx'\n",
    "    book = openpyxl.open(opened_file, read_only=True)\n",
    "    sheet = book.active\n",
    "    return_str = ''\n",
    "    \n",
    "\n",
    "    \n",
    "    for row in sheet:\n",
    "\n",
    "        a = '{}\\n{}, {} руб.{} \\n\\n'.format(\n",
    "            row[2].value,           # статус\n",
    "            row[1].value,           # название\n",
    "            row[0].value,           # артикул\n",
    "            \n",
    "            row[2].value,           # название предмета\n",
    "            )\n",
    "        return_str += a\n",
    "    \n",
    "    if return_str == '':\n",
    "        return 'Нет предметов комитента'\n",
    "    return return_str\n",
    "\n",
    "\n",
    "print(make_report_text())"
   ]
  },
  {
   "cell_type": "markdown",
   "id": "acd8908a",
   "metadata": {},
   "source": []
  },
  {
   "cell_type": "code",
   "execution_count": 28,
   "id": "21662501",
   "metadata": {
    "scrolled": true
   },
   "outputs": [
    {
     "data": {
      "text/html": [
       "<img src=\"https://bersoantik.com/media/_versions/catalog/2022/5/antikvarnaya-pech_02_0843_1_object_big.jpg\" width=\"400\"/>"
      ],
      "text/plain": [
       "<IPython.core.display.Image object>"
      ]
     },
     "execution_count": 28,
     "metadata": {},
     "output_type": "execute_result"
    }
   ],
   "source": [
    "from IPython.display import Image\n",
    "\n",
    "url= 'https://bersoantik.com/media/_versions/catalog/2022/5/antikvarnaya-pech_02_0843_1_object_big.jpg'\n",
    "\n",
    "Image(\n",
    "    url=url,\n",
    "    width=400,\n",
    "    # unconfined=True,      non-understood parameter\n",
    ")"
   ]
  },
  {
   "cell_type": "code",
   "execution_count": null,
   "id": "f52bd9ca",
   "metadata": {},
   "outputs": [],
   "source": []
  }
 ],
 "metadata": {
  "kernelspec": {
   "display_name": "Python 3.10.2 64-bit (system)",
   "language": "python",
   "name": "python3"
  },
  "language_info": {
   "codemirror_mode": {
    "name": "ipython",
    "version": 3
   },
   "file_extension": ".py",
   "mimetype": "text/x-python",
   "name": "python",
   "nbconvert_exporter": "python",
   "pygments_lexer": "ipython3",
   "version": "3.10.2"
  },
  "vscode": {
   "interpreter": {
    "hash": "639b248beed4ba8868b7bbccf7ad405234a39112ec10324a76224b42c263b23b"
   }
  }
 },
 "nbformat": 4,
 "nbformat_minor": 5
}
