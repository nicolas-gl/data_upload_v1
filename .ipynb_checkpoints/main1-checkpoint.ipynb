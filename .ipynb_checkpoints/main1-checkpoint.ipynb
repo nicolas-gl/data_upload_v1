{
 "cells": [
  {
   "cell_type": "code",
   "execution_count": 2,
   "id": "b89d724c",
   "metadata": {
    "scrolled": true
   },
   "outputs": [
    {
     "data": {
      "text/html": [
       "<img src=\"https://bersoantik.com/media/_versions/03.2018/01_0186-1_object_preview.jpg\" width=\"400\"/>"
      ],
      "text/plain": [
       "<IPython.core.display.Image object>"
      ]
     },
     "metadata": {},
     "output_type": "display_data"
    },
    {
     "name": "stdout",
     "output_type": "stream",
     "text": [
      "В наличии\n",
      "01_0186, Антикварные часы\n",
      "\n",
      "\n"
     ]
    },
    {
     "data": {
      "text/html": [
       "<img src=\"https://bersoantik.com/media/_versions/03.2020/antikvarnaya-statuetka-ovsyanka-obyiknovennaya-01_2703-5_object_preview.jpg\" width=\"400\"/>"
      ],
      "text/plain": [
       "<IPython.core.display.Image object>"
      ]
     },
     "metadata": {},
     "output_type": "display_data"
    },
    {
     "name": "stdout",
     "output_type": "stream",
     "text": [
      "В наличии\n",
      "01_2703, Антикварная статуэтка \"Овсянка обыкновенная\"\n",
      "\n",
      "\n"
     ]
    },
    {
     "data": {
      "text/html": [
       "<img src=\"https://bersoantik.com/media/_versions/catalog/2022/6/nastolnaya-lampa-delfin_01_3192_0_object_preview.jpg\" width=\"400\"/>"
      ],
      "text/plain": [
       "<IPython.core.display.Image object>"
      ]
     },
     "metadata": {},
     "output_type": "display_data"
    },
    {
     "name": "stdout",
     "output_type": "stream",
     "text": [
      "В наличии\n",
      "01_3192, Настольная лампа «Дельфин»\n",
      "\n",
      "\n",
      "1\n"
     ]
    }
   ],
   "source": [
    "import openpyxl\n",
    "import image_URL\n",
    "from IPython.display import Image\n",
    "\n",
    "my_file = 'committent_catalog_items.xlsx'\n",
    "\n",
    "def reporter(file) -> None:\n",
    "    book = openpyxl.open(file, read_only=True)\n",
    "    sheet = book.active\n",
    "    n = 0\n",
    "\n",
    "    for row in sheet:\n",
    "        if n == 0:\n",
    "            n = 1\n",
    "            continue\n",
    "        a = '{}\\n{}, {}\\n\\n'.format(\n",
    "            row[2].value,           # статус\n",
    "            row[0].value,           # артикул\n",
    "            row[1].value,           # название\n",
    "            )\n",
    "        url = image_URL.make(row[0].value)\n",
    "        \n",
    "        display(\n",
    "            Image(\n",
    "                url=url,\n",
    "                width=400,\n",
    "                # unconfined=True,      non-understood parameter\n",
    "                )\n",
    "            )\n",
    "        print(a)\n",
    "\n",
    "\n",
    "reporter(my_file)\n"
   ]
  },
  {
   "cell_type": "code",
   "execution_count": null,
   "id": "c6158d51",
   "metadata": {},
   "outputs": [],
   "source": []
  },
  {
   "cell_type": "code",
   "execution_count": null,
   "id": "4d21abdb",
   "metadata": {},
   "outputs": [],
   "source": []
  }
 ],
 "metadata": {
  "kernelspec": {
   "display_name": "Python 3 (ipykernel)",
   "language": "python",
   "name": "python3"
  },
  "language_info": {
   "codemirror_mode": {
    "name": "ipython",
    "version": 3
   },
   "file_extension": ".py",
   "mimetype": "text/x-python",
   "name": "python",
   "nbconvert_exporter": "python",
   "pygments_lexer": "ipython3",
   "version": "3.9.7"
  }
 },
 "nbformat": 4,
 "nbformat_minor": 5
}
